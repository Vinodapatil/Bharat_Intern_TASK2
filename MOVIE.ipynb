{
 "cells": [
  {
   "cell_type": "markdown",
   "id": "f287947e-dd2d-44ee-9440-65a9285f98be",
   "metadata": {},
   "source": [
    "# MOVIE RECOMENDATION :"
   ]
  },
  {
   "cell_type": "code",
   "execution_count": null,
   "id": "33d01944-70c6-420d-9e65-1bff8b569ed2",
   "metadata": {},
   "outputs": [],
   "source": [
    "import pandas as pd\n",
    "import numpy as np\n",
    "from sklearn.model_selection import train_test_split\n",
    "from sklearn.linear_model import Lasso\n",
    "from sklearn.preprocessing import StandardScaler\n",
    "from sklearn.pipeline import make_pipeline\n",
    "from sklearn.metrics import mean_squared_error\n",
    "import matplotlib.pyplot as plt\n",
    "import seaborn as sns\n"
   ]
  },
  {
   "cell_type": "code",
   "execution_count": 37,
   "id": "582d1156-728c-4bfb-951d-b3adb9a130d9",
   "metadata": {},
   "outputs": [],
   "source": [
    "data = pd.read_csv(\"movie.zip\")"
   ]
  },
  {
   "cell_type": "code",
   "execution_count": 22,
   "id": "5b5aaebe-50cd-4be2-acd0-b2dbae0ba3a6",
   "metadata": {},
   "outputs": [
    {
     "data": {
      "text/html": [
       "<div>\n",
       "<style scoped>\n",
       "    .dataframe tbody tr th:only-of-type {\n",
       "        vertical-align: middle;\n",
       "    }\n",
       "\n",
       "    .dataframe tbody tr th {\n",
       "        vertical-align: top;\n",
       "    }\n",
       "\n",
       "    .dataframe thead th {\n",
       "        text-align: right;\n",
       "    }\n",
       "</style>\n",
       "<table border=\"1\" class=\"dataframe\">\n",
       "  <thead>\n",
       "    <tr style=\"text-align: right;\">\n",
       "      <th></th>\n",
       "      <th>Unnamed: 0</th>\n",
       "      <th>index</th>\n",
       "      <th>tconst</th>\n",
       "      <th>titleType</th>\n",
       "      <th>primaryTitle</th>\n",
       "      <th>originalTitle</th>\n",
       "      <th>isAdult</th>\n",
       "      <th>startYear</th>\n",
       "      <th>endYear</th>\n",
       "      <th>runtimeMinutes</th>\n",
       "      <th>...</th>\n",
       "      <th>averageRating</th>\n",
       "      <th>numVotes</th>\n",
       "      <th>ordering</th>\n",
       "      <th>title</th>\n",
       "      <th>region</th>\n",
       "      <th>language</th>\n",
       "      <th>types</th>\n",
       "      <th>attributes</th>\n",
       "      <th>isOriginalTitle</th>\n",
       "      <th>Description</th>\n",
       "    </tr>\n",
       "  </thead>\n",
       "  <tbody>\n",
       "    <tr>\n",
       "      <th>0</th>\n",
       "      <td>0</td>\n",
       "      <td>0</td>\n",
       "      <td>tt0102926</td>\n",
       "      <td>movie</td>\n",
       "      <td>The Silence of the Lambs</td>\n",
       "      <td>The Silence of the Lambs</td>\n",
       "      <td>0</td>\n",
       "      <td>1991</td>\n",
       "      <td>\\N</td>\n",
       "      <td>118</td>\n",
       "      <td>...</td>\n",
       "      <td>8.6</td>\n",
       "      <td>1473918</td>\n",
       "      <td>50</td>\n",
       "      <td>The Silence of the Lambs</td>\n",
       "      <td>US</td>\n",
       "      <td>en</td>\n",
       "      <td>\\N</td>\n",
       "      <td>\\N</td>\n",
       "      <td>0</td>\n",
       "      <td>Jodie Foster stars as Clarice Starling, a top ...</td>\n",
       "    </tr>\n",
       "    <tr>\n",
       "      <th>1</th>\n",
       "      <td>1</td>\n",
       "      <td>1</td>\n",
       "      <td>tt0103064</td>\n",
       "      <td>movie</td>\n",
       "      <td>Terminator 2: Judgment Day</td>\n",
       "      <td>Terminator 2: Judgment Day</td>\n",
       "      <td>0</td>\n",
       "      <td>1991</td>\n",
       "      <td>\\N</td>\n",
       "      <td>137</td>\n",
       "      <td>...</td>\n",
       "      <td>8.6</td>\n",
       "      <td>1128166</td>\n",
       "      <td>17</td>\n",
       "      <td>Terminator 2: Judgment Day</td>\n",
       "      <td>US</td>\n",
       "      <td>en</td>\n",
       "      <td>dvd</td>\n",
       "      <td>\\N</td>\n",
       "      <td>0</td>\n",
       "      <td>In this sequel set eleven years after \"The Ter...</td>\n",
       "    </tr>\n",
       "    <tr>\n",
       "      <th>2</th>\n",
       "      <td>2</td>\n",
       "      <td>3</td>\n",
       "      <td>tt0110357</td>\n",
       "      <td>movie</td>\n",
       "      <td>The Lion King</td>\n",
       "      <td>The Lion King</td>\n",
       "      <td>0</td>\n",
       "      <td>1994</td>\n",
       "      <td>\\N</td>\n",
       "      <td>88</td>\n",
       "      <td>...</td>\n",
       "      <td>8.5</td>\n",
       "      <td>1090882</td>\n",
       "      <td>18</td>\n",
       "      <td>The Lion King 3D</td>\n",
       "      <td>US</td>\n",
       "      <td>en</td>\n",
       "      <td>\\N</td>\n",
       "      <td>3-D version</td>\n",
       "      <td>0</td>\n",
       "      <td>This Disney animated feature follows the adven...</td>\n",
       "    </tr>\n",
       "    <tr>\n",
       "      <th>3</th>\n",
       "      <td>3</td>\n",
       "      <td>4</td>\n",
       "      <td>tt0110912</td>\n",
       "      <td>movie</td>\n",
       "      <td>Pulp Fiction</td>\n",
       "      <td>Pulp Fiction</td>\n",
       "      <td>0</td>\n",
       "      <td>1994</td>\n",
       "      <td>\\N</td>\n",
       "      <td>154</td>\n",
       "      <td>...</td>\n",
       "      <td>8.9</td>\n",
       "      <td>2118762</td>\n",
       "      <td>22</td>\n",
       "      <td>Pulp Fiction</td>\n",
       "      <td>US</td>\n",
       "      <td>en</td>\n",
       "      <td>\\N</td>\n",
       "      <td>\\N</td>\n",
       "      <td>0</td>\n",
       "      <td>Vincent Vega (John Travolta) and Jules Winnfie...</td>\n",
       "    </tr>\n",
       "    <tr>\n",
       "      <th>4</th>\n",
       "      <td>4</td>\n",
       "      <td>5</td>\n",
       "      <td>tt0111161</td>\n",
       "      <td>movie</td>\n",
       "      <td>The Shawshank Redemption</td>\n",
       "      <td>The Shawshank Redemption</td>\n",
       "      <td>0</td>\n",
       "      <td>1994</td>\n",
       "      <td>\\N</td>\n",
       "      <td>142</td>\n",
       "      <td>...</td>\n",
       "      <td>9.3</td>\n",
       "      <td>2759621</td>\n",
       "      <td>2</td>\n",
       "      <td>The Shawshank Redemption</td>\n",
       "      <td>US</td>\n",
       "      <td>en</td>\n",
       "      <td>\\N</td>\n",
       "      <td>\\N</td>\n",
       "      <td>0</td>\n",
       "      <td>Andy Dufresne (Tim Robbins) is sentenced to tw...</td>\n",
       "    </tr>\n",
       "  </tbody>\n",
       "</table>\n",
       "<p>5 rows × 21 columns</p>\n",
       "</div>"
      ],
      "text/plain": [
       "   Unnamed: 0  index     tconst titleType                primaryTitle  \\\n",
       "0           0      0  tt0102926     movie    The Silence of the Lambs   \n",
       "1           1      1  tt0103064     movie  Terminator 2: Judgment Day   \n",
       "2           2      3  tt0110357     movie               The Lion King   \n",
       "3           3      4  tt0110912     movie                Pulp Fiction   \n",
       "4           4      5  tt0111161     movie    The Shawshank Redemption   \n",
       "\n",
       "                originalTitle  isAdult  startYear endYear runtimeMinutes  ...  \\\n",
       "0    The Silence of the Lambs        0       1991      \\N            118  ...   \n",
       "1  Terminator 2: Judgment Day        0       1991      \\N            137  ...   \n",
       "2               The Lion King        0       1994      \\N             88  ...   \n",
       "3                Pulp Fiction        0       1994      \\N            154  ...   \n",
       "4    The Shawshank Redemption        0       1994      \\N            142  ...   \n",
       "\n",
       "  averageRating  numVotes  ordering                       title region  \\\n",
       "0           8.6   1473918        50    The Silence of the Lambs     US   \n",
       "1           8.6   1128166        17  Terminator 2: Judgment Day     US   \n",
       "2           8.5   1090882        18            The Lion King 3D     US   \n",
       "3           8.9   2118762        22                Pulp Fiction     US   \n",
       "4           9.3   2759621         2    The Shawshank Redemption     US   \n",
       "\n",
       "  language types   attributes isOriginalTitle  \\\n",
       "0       en    \\N           \\N               0   \n",
       "1       en   dvd           \\N               0   \n",
       "2       en    \\N  3-D version               0   \n",
       "3       en    \\N           \\N               0   \n",
       "4       en    \\N           \\N               0   \n",
       "\n",
       "                                         Description  \n",
       "0  Jodie Foster stars as Clarice Starling, a top ...  \n",
       "1  In this sequel set eleven years after \"The Ter...  \n",
       "2  This Disney animated feature follows the adven...  \n",
       "3  Vincent Vega (John Travolta) and Jules Winnfie...  \n",
       "4  Andy Dufresne (Tim Robbins) is sentenced to tw...  \n",
       "\n",
       "[5 rows x 21 columns]"
      ]
     },
     "execution_count": 22,
     "metadata": {},
     "output_type": "execute_result"
    }
   ],
   "source": [
    "data.head(5)"
   ]
  },
  {
   "cell_type": "code",
   "execution_count": 23,
   "id": "3f15aaaf-25fe-4308-b678-7113546b94e0",
   "metadata": {},
   "outputs": [
    {
     "name": "stdout",
     "output_type": "stream",
     "text": [
      "<class 'pandas.core.frame.DataFrame'>\n",
      "RangeIndex: 7850 entries, 0 to 7849\n",
      "Data columns (total 21 columns):\n",
      " #   Column           Non-Null Count  Dtype  \n",
      "---  ------           --------------  -----  \n",
      " 0   Unnamed: 0       7850 non-null   int64  \n",
      " 1   index            7850 non-null   int64  \n",
      " 2   tconst           7850 non-null   object \n",
      " 3   titleType        7850 non-null   object \n",
      " 4   primaryTitle     7850 non-null   object \n",
      " 5   originalTitle    7850 non-null   object \n",
      " 6   isAdult          7850 non-null   int64  \n",
      " 7   startYear        7850 non-null   int64  \n",
      " 8   endYear          7850 non-null   object \n",
      " 9   runtimeMinutes   7850 non-null   object \n",
      " 10  genres           7850 non-null   object \n",
      " 11  averageRating    7850 non-null   float64\n",
      " 12  numVotes         7850 non-null   int64  \n",
      " 13  ordering         7850 non-null   int64  \n",
      " 14  title            7850 non-null   object \n",
      " 15  region           7850 non-null   object \n",
      " 16  language         7850 non-null   object \n",
      " 17  types            7850 non-null   object \n",
      " 18  attributes       7850 non-null   object \n",
      " 19  isOriginalTitle  7850 non-null   int64  \n",
      " 20  Description      7662 non-null   object \n",
      "dtypes: float64(1), int64(7), object(13)\n",
      "memory usage: 1.3+ MB\n"
     ]
    }
   ],
   "source": [
    "data.info()"
   ]
  },
  {
   "cell_type": "code",
   "execution_count": 24,
   "id": "2b1145ba-34d2-4d1b-8ead-cd9ed5179765",
   "metadata": {},
   "outputs": [
    {
     "data": {
      "text/html": [
       "<div>\n",
       "<style scoped>\n",
       "    .dataframe tbody tr th:only-of-type {\n",
       "        vertical-align: middle;\n",
       "    }\n",
       "\n",
       "    .dataframe tbody tr th {\n",
       "        vertical-align: top;\n",
       "    }\n",
       "\n",
       "    .dataframe thead th {\n",
       "        text-align: right;\n",
       "    }\n",
       "</style>\n",
       "<table border=\"1\" class=\"dataframe\">\n",
       "  <thead>\n",
       "    <tr style=\"text-align: right;\">\n",
       "      <th></th>\n",
       "      <th>Unnamed: 0</th>\n",
       "      <th>index</th>\n",
       "      <th>isAdult</th>\n",
       "      <th>startYear</th>\n",
       "      <th>averageRating</th>\n",
       "      <th>numVotes</th>\n",
       "      <th>ordering</th>\n",
       "      <th>isOriginalTitle</th>\n",
       "    </tr>\n",
       "  </thead>\n",
       "  <tbody>\n",
       "    <tr>\n",
       "      <th>count</th>\n",
       "      <td>7850.00000</td>\n",
       "      <td>7850.000000</td>\n",
       "      <td>7850.0</td>\n",
       "      <td>7850.000000</td>\n",
       "      <td>7850.000000</td>\n",
       "      <td>7.850000e+03</td>\n",
       "      <td>7850.000000</td>\n",
       "      <td>7850.0</td>\n",
       "    </tr>\n",
       "    <tr>\n",
       "      <th>mean</th>\n",
       "      <td>3924.50000</td>\n",
       "      <td>5286.804076</td>\n",
       "      <td>0.0</td>\n",
       "      <td>2013.204331</td>\n",
       "      <td>7.367605</td>\n",
       "      <td>7.527845e+04</td>\n",
       "      <td>16.440382</td>\n",
       "      <td>0.0</td>\n",
       "    </tr>\n",
       "    <tr>\n",
       "      <th>std</th>\n",
       "      <td>2266.24414</td>\n",
       "      <td>2851.482333</td>\n",
       "      <td>0.0</td>\n",
       "      <td>6.987697</td>\n",
       "      <td>0.605137</td>\n",
       "      <td>1.779794e+05</td>\n",
       "      <td>12.871290</td>\n",
       "      <td>0.0</td>\n",
       "    </tr>\n",
       "    <tr>\n",
       "      <th>min</th>\n",
       "      <td>0.00000</td>\n",
       "      <td>0.000000</td>\n",
       "      <td>0.0</td>\n",
       "      <td>1990.000000</td>\n",
       "      <td>6.500000</td>\n",
       "      <td>6.000000e+00</td>\n",
       "      <td>1.000000</td>\n",
       "      <td>0.0</td>\n",
       "    </tr>\n",
       "    <tr>\n",
       "      <th>25%</th>\n",
       "      <td>1962.25000</td>\n",
       "      <td>2847.250000</td>\n",
       "      <td>0.0</td>\n",
       "      <td>2008.000000</td>\n",
       "      <td>6.900000</td>\n",
       "      <td>6.035000e+03</td>\n",
       "      <td>6.000000</td>\n",
       "      <td>0.0</td>\n",
       "    </tr>\n",
       "    <tr>\n",
       "      <th>50%</th>\n",
       "      <td>3924.50000</td>\n",
       "      <td>5284.500000</td>\n",
       "      <td>0.0</td>\n",
       "      <td>2015.000000</td>\n",
       "      <td>7.300000</td>\n",
       "      <td>1.484150e+04</td>\n",
       "      <td>13.000000</td>\n",
       "      <td>0.0</td>\n",
       "    </tr>\n",
       "    <tr>\n",
       "      <th>75%</th>\n",
       "      <td>5886.75000</td>\n",
       "      <td>7602.750000</td>\n",
       "      <td>0.0</td>\n",
       "      <td>2019.000000</td>\n",
       "      <td>7.800000</td>\n",
       "      <td>5.660500e+04</td>\n",
       "      <td>24.000000</td>\n",
       "      <td>0.0</td>\n",
       "    </tr>\n",
       "    <tr>\n",
       "      <th>max</th>\n",
       "      <td>7849.00000</td>\n",
       "      <td>10274.000000</td>\n",
       "      <td>0.0</td>\n",
       "      <td>2023.000000</td>\n",
       "      <td>9.500000</td>\n",
       "      <td>2.759621e+06</td>\n",
       "      <td>119.000000</td>\n",
       "      <td>0.0</td>\n",
       "    </tr>\n",
       "  </tbody>\n",
       "</table>\n",
       "</div>"
      ],
      "text/plain": [
       "       Unnamed: 0         index  isAdult    startYear  averageRating  \\\n",
       "count  7850.00000   7850.000000   7850.0  7850.000000    7850.000000   \n",
       "mean   3924.50000   5286.804076      0.0  2013.204331       7.367605   \n",
       "std    2266.24414   2851.482333      0.0     6.987697       0.605137   \n",
       "min       0.00000      0.000000      0.0  1990.000000       6.500000   \n",
       "25%    1962.25000   2847.250000      0.0  2008.000000       6.900000   \n",
       "50%    3924.50000   5284.500000      0.0  2015.000000       7.300000   \n",
       "75%    5886.75000   7602.750000      0.0  2019.000000       7.800000   \n",
       "max    7849.00000  10274.000000      0.0  2023.000000       9.500000   \n",
       "\n",
       "           numVotes     ordering  isOriginalTitle  \n",
       "count  7.850000e+03  7850.000000           7850.0  \n",
       "mean   7.527845e+04    16.440382              0.0  \n",
       "std    1.779794e+05    12.871290              0.0  \n",
       "min    6.000000e+00     1.000000              0.0  \n",
       "25%    6.035000e+03     6.000000              0.0  \n",
       "50%    1.484150e+04    13.000000              0.0  \n",
       "75%    5.660500e+04    24.000000              0.0  \n",
       "max    2.759621e+06   119.000000              0.0  "
      ]
     },
     "execution_count": 24,
     "metadata": {},
     "output_type": "execute_result"
    }
   ],
   "source": [
    "data.describe()"
   ]
  },
  {
   "cell_type": "code",
   "execution_count": 25,
   "id": "4efdd543-b894-455c-a066-feddb82616b4",
   "metadata": {},
   "outputs": [
    {
     "data": {
      "text/plain": [
       "Unnamed: 0           0\n",
       "index                0\n",
       "tconst               0\n",
       "titleType            0\n",
       "primaryTitle         0\n",
       "originalTitle        0\n",
       "isAdult              0\n",
       "startYear            0\n",
       "endYear              0\n",
       "runtimeMinutes       0\n",
       "genres               0\n",
       "averageRating        0\n",
       "numVotes             0\n",
       "ordering             0\n",
       "title                0\n",
       "region               0\n",
       "language             0\n",
       "types                0\n",
       "attributes           0\n",
       "isOriginalTitle      0\n",
       "Description        188\n",
       "dtype: int64"
      ]
     },
     "execution_count": 25,
     "metadata": {},
     "output_type": "execute_result"
    }
   ],
   "source": [
    "data.isna().sum()"
   ]
  },
  {
   "cell_type": "code",
   "execution_count": 41,
   "id": "543b0fd5-1659-4149-9eef-b3f2f6834bb4",
   "metadata": {},
   "outputs": [],
   "source": [
    "data = data[['tconst', 'primaryTitle', 'genres', 'averageRating', 'numVotes']]\n"
   ]
  },
  {
   "cell_type": "code",
   "execution_count": 42,
   "id": "e199c783-5b20-4be5-af42-bda26a3b8c42",
   "metadata": {},
   "outputs": [
    {
     "data": {
      "text/html": [
       "<div>\n",
       "<style scoped>\n",
       "    .dataframe tbody tr th:only-of-type {\n",
       "        vertical-align: middle;\n",
       "    }\n",
       "\n",
       "    .dataframe tbody tr th {\n",
       "        vertical-align: top;\n",
       "    }\n",
       "\n",
       "    .dataframe thead th {\n",
       "        text-align: right;\n",
       "    }\n",
       "</style>\n",
       "<table border=\"1\" class=\"dataframe\">\n",
       "  <thead>\n",
       "    <tr style=\"text-align: right;\">\n",
       "      <th></th>\n",
       "      <th>averageRating</th>\n",
       "      <th>numVotes</th>\n",
       "    </tr>\n",
       "  </thead>\n",
       "  <tbody>\n",
       "    <tr>\n",
       "      <th>count</th>\n",
       "      <td>7850.000000</td>\n",
       "      <td>7.850000e+03</td>\n",
       "    </tr>\n",
       "    <tr>\n",
       "      <th>mean</th>\n",
       "      <td>7.367605</td>\n",
       "      <td>7.527845e+04</td>\n",
       "    </tr>\n",
       "    <tr>\n",
       "      <th>std</th>\n",
       "      <td>0.605137</td>\n",
       "      <td>1.779794e+05</td>\n",
       "    </tr>\n",
       "    <tr>\n",
       "      <th>min</th>\n",
       "      <td>6.500000</td>\n",
       "      <td>6.000000e+00</td>\n",
       "    </tr>\n",
       "    <tr>\n",
       "      <th>25%</th>\n",
       "      <td>6.900000</td>\n",
       "      <td>6.035000e+03</td>\n",
       "    </tr>\n",
       "    <tr>\n",
       "      <th>50%</th>\n",
       "      <td>7.300000</td>\n",
       "      <td>1.484150e+04</td>\n",
       "    </tr>\n",
       "    <tr>\n",
       "      <th>75%</th>\n",
       "      <td>7.800000</td>\n",
       "      <td>5.660500e+04</td>\n",
       "    </tr>\n",
       "    <tr>\n",
       "      <th>max</th>\n",
       "      <td>9.500000</td>\n",
       "      <td>2.759621e+06</td>\n",
       "    </tr>\n",
       "  </tbody>\n",
       "</table>\n",
       "</div>"
      ],
      "text/plain": [
       "       averageRating      numVotes\n",
       "count    7850.000000  7.850000e+03\n",
       "mean        7.367605  7.527845e+04\n",
       "std         0.605137  1.779794e+05\n",
       "min         6.500000  6.000000e+00\n",
       "25%         6.900000  6.035000e+03\n",
       "50%         7.300000  1.484150e+04\n",
       "75%         7.800000  5.660500e+04\n",
       "max         9.500000  2.759621e+06"
      ]
     },
     "execution_count": 42,
     "metadata": {},
     "output_type": "execute_result"
    }
   ],
   "source": [
    "data.describe()"
   ]
  },
  {
   "cell_type": "code",
   "execution_count": 43,
   "id": "46ae9319-7a8f-435a-9a90-1e8f9dff2961",
   "metadata": {},
   "outputs": [],
   "source": [
    "data = data[data['numVotes'] >= 1000]\n"
   ]
  },
  {
   "cell_type": "code",
   "execution_count": 44,
   "id": "d0e162e4-7ac8-4a8b-88b0-5dd1a727eead",
   "metadata": {},
   "outputs": [
    {
     "data": {
      "image/png": "[encoded data removed]",
      "text/plain": [
       "<Figure size 640x480 with 1 Axes>"
      ]
     },
     "metadata": {},
     "output_type": "display_data"
    }
   ],
   "source": [
    "data['averageRating'].hist(bins=10)\n",
    "plt.xlabel('Rating')\n",
    "plt.ylabel('Frequency')\n",
    "plt.title('Distribution of Ratings')\n",
    "plt.show()\n"
   ]
  },
  {
   "cell_type": "code",
   "execution_count": 60,
   "id": "ba10df28-900b-474b-93f7-e594c20dd6af",
   "metadata": {},
   "outputs": [],
   "source": [
    "cols_for_heatmap = ['averageRating', 'numVotes']\n"
   ]
  },
  {
   "cell_type": "code",
   "execution_count": 61,
   "id": "f7cd88ea-b036-4e46-a03f-689d3cce4f6e",
   "metadata": {},
   "outputs": [
    {
     "data": {
      "image/png": "[encoded data removed]",
      "text/plain": [
       "<Figure size 1000x800 with 2 Axes>"
      ]
     },
     "metadata": {},
     "output_type": "display_data"
    }
   ],
   "source": [
    "correlation_matrix = data[cols_for_heatmap].corr()\n",
    "plt.figure(figsize=(10, 8))\n",
    "sns.heatmap(correlation_matrix, annot=True, cmap='coolwarm', fmt=\".2f\")\n",
    "plt.title('Correlation Heatmap of Movie Features')\n",
    "plt.show()"
   ]
  },
  {
   "cell_type": "code",
   "execution_count": 62,
   "id": "33ec2c9d-ed72-4282-859b-d8db7822ea49",
   "metadata": {},
   "outputs": [],
   "source": [
    "pearson_corr = data['averageRating'].corr(data['numVotes'])\n"
   ]
  },
  {
   "cell_type": "code",
   "execution_count": 63,
   "id": "12ccfda6-f22e-48df-8f6f-619ed52b50de",
   "metadata": {},
   "outputs": [
    {
     "name": "stdout",
     "output_type": "stream",
     "text": [
      "Pearson correlation coefficient between average rating and number of votes: 0.20208779354729367\n"
     ]
    }
   ],
   "source": [
    "print(\"Pearson correlation coefficient between average rating and number of votes:\", pearson_corr)\n"
   ]
  },
  {
   "cell_type": "code",
   "execution_count": 65,
   "id": "2e297429-ce43-4542-a6a4-d4d8c2573850",
   "metadata": {},
   "outputs": [
    {
     "data": {
      "image/png": "[encoded data removed]",
      "text/plain": [
       "<Figure size 1200x700 with 2 Axes>"
      ]
     },
     "metadata": {},
     "output_type": "display_data"
    }
   ],
   "source": [
    "numeric_data = data.select_dtypes(include=['number'])\n",
    "\n",
    "# Compute the correlation matrix\n",
    "corr = numeric_data.corr()\n",
    "\n",
    "# Create a heatmap\n",
    "plt.figure(figsize=(12, 7))\n",
    "sns.heatmap(corr, cmap=\"viridis\", annot=True)\n",
    "plt.title('Correlation Heatmap')\n",
    "plt.show()"
   ]
  },
  {
   "cell_type": "code",
   "execution_count": 47,
   "id": "cc59dc1d-2d55-4b25-954f-75f62606df63",
   "metadata": {},
   "outputs": [],
   "source": [
    "data['genre_combinations'] = data['genres'].apply(lambda x: '|'.join(sorted(x.split(','))))\n"
   ]
  },
  {
   "cell_type": "code",
   "execution_count": 49,
   "id": "2c1efb67-e760-4fd9-88de-1ff19a54018f",
   "metadata": {},
   "outputs": [],
   "source": [
    "# Building Recommendation System\n",
    "# Example: Content-Based Filtering\n",
    "from sklearn.feature_extraction.text import TfidfVectorizer\n",
    "from sklearn.metrics.pairwise import linear_kernel\n"
   ]
  },
  {
   "cell_type": "code",
   "execution_count": 50,
   "id": "3140f721-f78b-48fe-8e73-23f799fa5ae3",
   "metadata": {},
   "outputs": [],
   "source": [
    "# TF-IDF Vectorization\n",
    "tfidf = TfidfVectorizer(stop_words='english')\n",
    "tfidf_matrix = tfidf.fit_transform(data['genre_combinations'])\n"
   ]
  },
  {
   "cell_type": "code",
   "execution_count": 51,
   "id": "6662b2ef-d39a-4d8d-b868-18d6dd37590d",
   "metadata": {},
   "outputs": [],
   "source": [
    "cosine_sim = linear_kernel(tfidf_matrix, tfidf_matrix)\n"
   ]
  },
  {
   "cell_type": "code",
   "execution_count": 52,
   "id": "a2eae24e-973c-452f-8242-3d05564f71ed",
   "metadata": {},
   "outputs": [],
   "source": [
    "def get_recommendations(title, cosine_sim=cosine_sim):\n",
    "    idx = data[data['primaryTitle'] == title].index[0]\n",
    "    sim_scores = list(enumerate(cosine_sim[idx]))\n",
    "    sim_scores = sorted(sim_scores, key=lambda x: x[1], reverse=True)\n",
    "    sim_scores = sim_scores[1:11]\n",
    "    movie_indices = [i[0] for i in sim_scores]\n",
    "    return data['primaryTitle'].iloc[movie_indices]\n"
   ]
  },
  {
   "cell_type": "code",
   "execution_count": 53,
   "id": "141cce48-66ee-4a21-864d-6958d89b00d9",
   "metadata": {},
   "outputs": [
    {
     "data": {
      "text/plain": [
       "49                                Precious\n",
       "61                   One Night in Miami...\n",
       "77                       Treeless Mountain\n",
       "112                         Mumbai Diaries\n",
       "180                               The Hunt\n",
       "208                          The Chaperone\n",
       "251    The Last Black Man in San Francisco\n",
       "291                                  Diane\n",
       "325                              Honey Boy\n",
       "343                       Charm City Kings\n",
       "Name: primaryTitle, dtype: object"
      ]
     },
     "execution_count": 53,
     "metadata": {},
     "output_type": "execute_result"
    }
   ],
   "source": [
    "get_recommendations('The Shawshank Redemption')\n"
   ]
  },
  {
   "cell_type": "code",
   "execution_count": null,
   "id": "95756a67-aad1-4cd0-b7ae-965aea0ecfc4",
   "metadata": {},
   "outputs": [],
   "source": []
  },
  {
   "cell_type": "code",
   "execution_count": null,
   "id": "b83361d2-f307-4182-b8b8-a0d06bd0aad7",
   "metadata": {},
   "outputs": [],
   "source": []
  }
 ],
 "metadata": {
  "kernelspec": {
   "display_name": "Python 3 (ipykernel)",
   "language": "python",
   "name": "python3"
  },
  "language_info": {
   "codemirror_mode": {
    "name": "ipython",
    "version": 3
   },
   "file_extension": ".py",
   "mimetype": "text/x-python",
   "name": "python",
   "nbconvert_exporter": "python",
   "pygments_lexer": "ipython3",
   "version": "3.11.2"
  }
 },
 "nbformat": 4,
 "nbformat_minor": 5
}
